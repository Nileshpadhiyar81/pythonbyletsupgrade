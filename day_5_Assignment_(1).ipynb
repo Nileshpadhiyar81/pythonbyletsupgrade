{
  "nbformat": 4,
  "nbformat_minor": 0,
  "metadata": {
    "colab": {
      "name": "day 5 Assignment .ipynb",
      "provenance": [],
      "collapsed_sections": []
    },
    "kernelspec": {
      "name": "python3",
      "display_name": "Python 3"
    }
  },
  "cells": [
    {
      "cell_type": "code",
      "metadata": {
        "id": "OivB-ozj3jA8"
      },
      "source": [
        " x= int(input(\"enter num \")) # take input from user and store it in x variable\r\n",
        " if x> 1: # prime are always greter then 1\r\n",
        "   for i in range(2,x):  \r\n",
        "       if x % i == 0:  \r\n",
        "           print(x,\"is not a prime number\")   \r\n",
        "           break  \r\n",
        "   else:  \r\n",
        "       print(x,\"is a prime number\")  \r\n",
        "         \r\n",
        "else:  \r\n",
        "   print(x,\"is not a prime number\")  \r\n",
        "\r\n",
        "\r\n",
        " #took help from google as i didnt knew about prime num nor my code worked\r\n",
        "  #my original code \r\n",
        "  #def prime(num):\r\n",
        " #  for i in range (2,i):\r\n",
        "  #   if i%num ==0:\r\n",
        "   #    print( num ,\" is not prime num\")\r\n",
        "  #else:\r\n",
        "   #   print(num, \"is not prime number\")\r\n",
        "\r\n",
        "\r\n",
        "\r\n",
        "   \r\n",
        "     \r\n",
        "      \r\n",
        "       \r\n",
        "  \r\n",
        "     \r\n",
        "\r\n",
        "    "
      ],
      "execution_count": null,
      "outputs": []
    },
    {
      "cell_type": "code",
      "metadata": {
        "id": "M1FBU-4iKUyS"
      },
      "source": [
        ""
      ],
      "execution_count": null,
      "outputs": []
    }
  ]
}