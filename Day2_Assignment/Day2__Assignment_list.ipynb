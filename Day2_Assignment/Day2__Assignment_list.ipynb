{
  "nbformat": 4,
  "nbformat_minor": 0,
  "metadata": {
    "colab": {
      "name": "Day2_ Assignment_list.ipynb",
      "provenance": [],
      "collapsed_sections": []
    },
    "kernelspec": {
      "name": "python3",
      "display_name": "Python 3"
    }
  },
  "cells": [
    {
      "cell_type": "code",
      "metadata": {
        "id": "cpLfJewGLFY3"
      },
      "source": [
        "mylist=[1,2,3,4,\"nilesh\",\"padhiyar\",2.33]"
      ],
      "execution_count": 42,
      "outputs": []
    },
    {
      "cell_type": "code",
      "metadata": {
        "colab": {
          "base_uri": "https://localhost:8080/"
        },
        "id": "GdgWEISYNhZL",
        "outputId": "6fb68d79-6a60-43cd-e1f6-c48294fa5f30"
      },
      "source": [
        "#listexample  1\r\n",
        "mylist.append(\"last\")  #adding string \"last\" to end of list\r\n",
        "mylist "
      ],
      "execution_count": 43,
      "outputs": [
        {
          "output_type": "execute_result",
          "data": {
            "text/plain": [
              "[1, 2, 3, 4, 'nilesh', 'padhiyar', 2.33, 'last']"
            ]
          },
          "metadata": {
            "tags": []
          },
          "execution_count": 43
        }
      ]
    },
    {
      "cell_type": "code",
      "metadata": {
        "colab": {
          "base_uri": "https://localhost:8080/"
        },
        "id": "nE3UPpgOShuF",
        "outputId": "a400365b-5ddc-49fc-88e3-e9e136c3d1c0"
      },
      "source": [
        "#listexample  2\r\n",
        "mylist.insert(0,\"zero index\") # this will add \"zero index\" at zero positon of list\r\n",
        "mylist"
      ],
      "execution_count": 44,
      "outputs": [
        {
          "output_type": "execute_result",
          "data": {
            "text/plain": [
              "['zero index', 1, 2, 3, 4, 'nilesh', 'padhiyar', 2.33, 'last']"
            ]
          },
          "metadata": {
            "tags": []
          },
          "execution_count": 44
        }
      ]
    },
    {
      "cell_type": "code",
      "metadata": {
        "colab": {
          "base_uri": "https://localhost:8080/"
        },
        "id": "AgBE6AtuS7uA",
        "outputId": "6369ba13-d401-4873-ca58-c3fcd97dd74c"
      },
      "source": [
        "#listexample  3\r\n",
        "mylist.remove(\"last\") #this will remove \"last\" eleent from list\r\n",
        "mylist"
      ],
      "execution_count": 46,
      "outputs": [
        {
          "output_type": "execute_result",
          "data": {
            "text/plain": [
              "['zero index', 1, 2, 3, 4, 'nilesh', 'padhiyar', 2.33]"
            ]
          },
          "metadata": {
            "tags": []
          },
          "execution_count": 46
        }
      ]
    },
    {
      "cell_type": "code",
      "metadata": {
        "colab": {
          "base_uri": "https://localhost:8080/"
        },
        "id": "Gc7d7xnnY0dC",
        "outputId": "92e02c0b-306a-4fb2-85c7-86d21ef9caf0"
      },
      "source": [
        "#listexample  4\r\n",
        "a=mylist.index(\"nilesh\") \r\n",
        "print (\"index of nilesh is\",a) # this prints index no of string\"nilesh"
      ],
      "execution_count": 50,
      "outputs": [
        {
          "output_type": "stream",
          "text": [
            "index of nilesh is 5\n"
          ],
          "name": "stdout"
        }
      ]
    },
    {
      "cell_type": "code",
      "metadata": {
        "colab": {
          "base_uri": "https://localhost:8080/"
        },
        "id": "-mLe2fFwgNvr",
        "outputId": "0dbbd617-a084-434c-942d-2025f2003d4d"
      },
      "source": [
        "#listexample  4\r\n",
        "mylist.clear() # clear the whole list\r\n",
        "mylist"
      ],
      "execution_count": 51,
      "outputs": [
        {
          "output_type": "execute_result",
          "data": {
            "text/plain": [
              "[]"
            ]
          },
          "metadata": {
            "tags": []
          },
          "execution_count": 51
        }
      ]
    },
    {
      "cell_type": "code",
      "metadata": {
        "id": "ygyx0zysgfnx"
      },
      "source": [
        ""
      ],
      "execution_count": null,
      "outputs": []
    },
    {
      "cell_type": "code",
      "metadata": {
        "id": "E77gu3ZQfbpR"
      },
      "source": [
        ""
      ],
      "execution_count": null,
      "outputs": []
    },
    {
      "cell_type": "code",
      "metadata": {
        "id": "3aSar4_ofWEW"
      },
      "source": [
        ""
      ],
      "execution_count": null,
      "outputs": []
    },
    {
      "cell_type": "code",
      "metadata": {
        "id": "7e7827FIfIn9"
      },
      "source": [
        ""
      ],
      "execution_count": null,
      "outputs": []
    },
    {
      "cell_type": "code",
      "metadata": {
        "id": "3aytXgeIYyUn"
      },
      "source": [
        ""
      ],
      "execution_count": null,
      "outputs": []
    },
    {
      "cell_type": "code",
      "metadata": {
        "id": "RGo9_suZYrct"
      },
      "source": [
        ""
      ],
      "execution_count": null,
      "outputs": []
    },
    {
      "cell_type": "code",
      "metadata": {
        "id": "q2ffdpFTYldO"
      },
      "source": [
        ""
      ],
      "execution_count": null,
      "outputs": []
    }
  ]
}